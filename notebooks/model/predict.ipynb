{
 "cells": [
  {
   "cell_type": "code",
   "execution_count": 1,
   "metadata": {},
   "outputs": [
    {
     "name": "stdout",
     "output_type": "stream",
     "text": [
      "Populating the interactive namespace from numpy and matplotlib\n"
     ]
    }
   ],
   "source": [
    "%run '../00_rh_settings.ipynb'\n",
    "%run '../00_rh_load_processed.ipynb'"
   ]
  },
  {
   "cell_type": "code",
   "execution_count": 2,
   "metadata": {},
   "outputs": [],
   "source": [
    "train_df = df"
   ]
  },
  {
   "cell_type": "code",
   "execution_count": 3,
   "metadata": {},
   "outputs": [
    {
     "data": {
      "text/html": [
       "<div>\n",
       "<style scoped>\n",
       "    .dataframe tbody tr th:only-of-type {\n",
       "        vertical-align: middle;\n",
       "    }\n",
       "\n",
       "    .dataframe tbody tr th {\n",
       "        vertical-align: top;\n",
       "    }\n",
       "\n",
       "    .dataframe thead th {\n",
       "        text-align: right;\n",
       "    }\n",
       "</style>\n",
       "<table border=\"1\" class=\"dataframe\">\n",
       "  <thead>\n",
       "    <tr style=\"text-align: right;\">\n",
       "      <th></th>\n",
       "      <th>Unnamed: 0</th>\n",
       "      <th>loanKey</th>\n",
       "      <th>rep_loan_date</th>\n",
       "      <th>first_loan</th>\n",
       "      <th>dpd_5_cnt</th>\n",
       "      <th>dpd_15_cnt</th>\n",
       "      <th>dpd_30_cnt</th>\n",
       "      <th>first_overdue_date</th>\n",
       "      <th>close_loans_cnt</th>\n",
       "      <th>federal_district_nm</th>\n",
       "      <th>...</th>\n",
       "      <th>past_billings_cnt</th>\n",
       "      <th>score_1</th>\n",
       "      <th>score_2</th>\n",
       "      <th>age</th>\n",
       "      <th>gender</th>\n",
       "      <th>bad_flag</th>\n",
       "      <th>dpd</th>\n",
       "      <th>first_loanfirst_overdue_date</th>\n",
       "      <th>rep_loan_datefirst_loan</th>\n",
       "      <th>rep_loan_datefirst_overdue_date</th>\n",
       "    </tr>\n",
       "  </thead>\n",
       "  <tbody>\n",
       "    <tr>\n",
       "      <th>0</th>\n",
       "      <td>0</td>\n",
       "      <td>708382</td>\n",
       "      <td>644</td>\n",
       "      <td>316</td>\n",
       "      <td>0.0</td>\n",
       "      <td>0.0</td>\n",
       "      <td>0.0</td>\n",
       "      <td>0.0</td>\n",
       "      <td>3.0</td>\n",
       "      <td>region_6</td>\n",
       "      <td>...</td>\n",
       "      <td>10.0</td>\n",
       "      <td>0.0</td>\n",
       "      <td>0.0</td>\n",
       "      <td>21.0</td>\n",
       "      <td>False</td>\n",
       "      <td>0</td>\n",
       "      <td>0.0</td>\n",
       "      <td>316.0</td>\n",
       "      <td>328</td>\n",
       "      <td>644.0</td>\n",
       "    </tr>\n",
       "    <tr>\n",
       "      <th>1</th>\n",
       "      <td>1</td>\n",
       "      <td>406305</td>\n",
       "      <td>450</td>\n",
       "      <td>270</td>\n",
       "      <td>1.0</td>\n",
       "      <td>0.0</td>\n",
       "      <td>0.0</td>\n",
       "      <td>394.0</td>\n",
       "      <td>0.0</td>\n",
       "      <td>region_6</td>\n",
       "      <td>...</td>\n",
       "      <td>5.0</td>\n",
       "      <td>0.0</td>\n",
       "      <td>0.0</td>\n",
       "      <td>20.0</td>\n",
       "      <td>False</td>\n",
       "      <td>0</td>\n",
       "      <td>5.0</td>\n",
       "      <td>-124.0</td>\n",
       "      <td>180</td>\n",
       "      <td>56.0</td>\n",
       "    </tr>\n",
       "    <tr>\n",
       "      <th>2</th>\n",
       "      <td>2</td>\n",
       "      <td>779736</td>\n",
       "      <td>668</td>\n",
       "      <td>354</td>\n",
       "      <td>0.0</td>\n",
       "      <td>0.0</td>\n",
       "      <td>0.0</td>\n",
       "      <td>0.0</td>\n",
       "      <td>2.0</td>\n",
       "      <td>region_1</td>\n",
       "      <td>...</td>\n",
       "      <td>5.0</td>\n",
       "      <td>0.0</td>\n",
       "      <td>0.0</td>\n",
       "      <td>19.0</td>\n",
       "      <td>False</td>\n",
       "      <td>0</td>\n",
       "      <td>0.0</td>\n",
       "      <td>354.0</td>\n",
       "      <td>314</td>\n",
       "      <td>668.0</td>\n",
       "    </tr>\n",
       "    <tr>\n",
       "      <th>3</th>\n",
       "      <td>3</td>\n",
       "      <td>556376</td>\n",
       "      <td>545</td>\n",
       "      <td>180</td>\n",
       "      <td>0.0</td>\n",
       "      <td>0.0</td>\n",
       "      <td>0.0</td>\n",
       "      <td>0.0</td>\n",
       "      <td>1.0</td>\n",
       "      <td>region_6</td>\n",
       "      <td>...</td>\n",
       "      <td>6.0</td>\n",
       "      <td>0.0</td>\n",
       "      <td>0.0</td>\n",
       "      <td>21.0</td>\n",
       "      <td>False</td>\n",
       "      <td>0</td>\n",
       "      <td>0.0</td>\n",
       "      <td>180.0</td>\n",
       "      <td>365</td>\n",
       "      <td>545.0</td>\n",
       "    </tr>\n",
       "    <tr>\n",
       "      <th>4</th>\n",
       "      <td>4</td>\n",
       "      <td>266968</td>\n",
       "      <td>334</td>\n",
       "      <td>214</td>\n",
       "      <td>0.0</td>\n",
       "      <td>0.0</td>\n",
       "      <td>0.0</td>\n",
       "      <td>0.0</td>\n",
       "      <td>0.0</td>\n",
       "      <td>region_5</td>\n",
       "      <td>...</td>\n",
       "      <td>3.0</td>\n",
       "      <td>0.0</td>\n",
       "      <td>0.0</td>\n",
       "      <td>33.0</td>\n",
       "      <td>False</td>\n",
       "      <td>0</td>\n",
       "      <td>0.0</td>\n",
       "      <td>214.0</td>\n",
       "      <td>120</td>\n",
       "      <td>334.0</td>\n",
       "    </tr>\n",
       "    <tr>\n",
       "      <th>5</th>\n",
       "      <td>5</td>\n",
       "      <td>697186</td>\n",
       "      <td>639</td>\n",
       "      <td>241</td>\n",
       "      <td>0.0</td>\n",
       "      <td>0.0</td>\n",
       "      <td>0.0</td>\n",
       "      <td>0.0</td>\n",
       "      <td>2.0</td>\n",
       "      <td>region_3</td>\n",
       "      <td>...</td>\n",
       "      <td>5.0</td>\n",
       "      <td>0.0</td>\n",
       "      <td>0.0</td>\n",
       "      <td>34.0</td>\n",
       "      <td>False</td>\n",
       "      <td>0</td>\n",
       "      <td>0.0</td>\n",
       "      <td>241.0</td>\n",
       "      <td>398</td>\n",
       "      <td>639.0</td>\n",
       "    </tr>\n",
       "    <tr>\n",
       "      <th>6</th>\n",
       "      <td>6</td>\n",
       "      <td>347907</td>\n",
       "      <td>413</td>\n",
       "      <td>157</td>\n",
       "      <td>1.0</td>\n",
       "      <td>0.0</td>\n",
       "      <td>0.0</td>\n",
       "      <td>309.0</td>\n",
       "      <td>2.0</td>\n",
       "      <td>region_3</td>\n",
       "      <td>...</td>\n",
       "      <td>8.0</td>\n",
       "      <td>0.0</td>\n",
       "      <td>0.0</td>\n",
       "      <td>32.0</td>\n",
       "      <td>False</td>\n",
       "      <td>0</td>\n",
       "      <td>5.0</td>\n",
       "      <td>-152.0</td>\n",
       "      <td>256</td>\n",
       "      <td>104.0</td>\n",
       "    </tr>\n",
       "    <tr>\n",
       "      <th>7</th>\n",
       "      <td>7</td>\n",
       "      <td>256097</td>\n",
       "      <td>326</td>\n",
       "      <td>154</td>\n",
       "      <td>1.0</td>\n",
       "      <td>1.0</td>\n",
       "      <td>0.0</td>\n",
       "      <td>309.0</td>\n",
       "      <td>0.0</td>\n",
       "      <td>region_3</td>\n",
       "      <td>...</td>\n",
       "      <td>5.0</td>\n",
       "      <td>0.0</td>\n",
       "      <td>0.0</td>\n",
       "      <td>23.0</td>\n",
       "      <td>False</td>\n",
       "      <td>1</td>\n",
       "      <td>20.0</td>\n",
       "      <td>-155.0</td>\n",
       "      <td>172</td>\n",
       "      <td>17.0</td>\n",
       "    </tr>\n",
       "    <tr>\n",
       "      <th>8</th>\n",
       "      <td>8</td>\n",
       "      <td>670540</td>\n",
       "      <td>627</td>\n",
       "      <td>336</td>\n",
       "      <td>3.0</td>\n",
       "      <td>1.0</td>\n",
       "      <td>0.0</td>\n",
       "      <td>379.0</td>\n",
       "      <td>1.0</td>\n",
       "      <td>region_2</td>\n",
       "      <td>...</td>\n",
       "      <td>6.0</td>\n",
       "      <td>0.0</td>\n",
       "      <td>0.0</td>\n",
       "      <td>33.0</td>\n",
       "      <td>False</td>\n",
       "      <td>0</td>\n",
       "      <td>30.0</td>\n",
       "      <td>-43.0</td>\n",
       "      <td>291</td>\n",
       "      <td>248.0</td>\n",
       "    </tr>\n",
       "    <tr>\n",
       "      <th>9</th>\n",
       "      <td>9</td>\n",
       "      <td>254453</td>\n",
       "      <td>325</td>\n",
       "      <td>154</td>\n",
       "      <td>1.0</td>\n",
       "      <td>1.0</td>\n",
       "      <td>0.0</td>\n",
       "      <td>309.0</td>\n",
       "      <td>0.0</td>\n",
       "      <td>region_3</td>\n",
       "      <td>...</td>\n",
       "      <td>5.0</td>\n",
       "      <td>0.0</td>\n",
       "      <td>0.0</td>\n",
       "      <td>23.0</td>\n",
       "      <td>False</td>\n",
       "      <td>1</td>\n",
       "      <td>20.0</td>\n",
       "      <td>-155.0</td>\n",
       "      <td>171</td>\n",
       "      <td>16.0</td>\n",
       "    </tr>\n",
       "  </tbody>\n",
       "</table>\n",
       "<p>10 rows × 26 columns</p>\n",
       "</div>"
      ],
      "text/plain": [
       "   Unnamed: 0  loanKey  rep_loan_date  first_loan  dpd_5_cnt  dpd_15_cnt  \\\n",
       "0           0   708382            644         316        0.0         0.0   \n",
       "1           1   406305            450         270        1.0         0.0   \n",
       "2           2   779736            668         354        0.0         0.0   \n",
       "3           3   556376            545         180        0.0         0.0   \n",
       "4           4   266968            334         214        0.0         0.0   \n",
       "5           5   697186            639         241        0.0         0.0   \n",
       "6           6   347907            413         157        1.0         0.0   \n",
       "7           7   256097            326         154        1.0         1.0   \n",
       "8           8   670540            627         336        3.0         1.0   \n",
       "9           9   254453            325         154        1.0         1.0   \n",
       "\n",
       "   dpd_30_cnt  first_overdue_date  close_loans_cnt federal_district_nm  \\\n",
       "0         0.0                 0.0              3.0            region_6   \n",
       "1         0.0               394.0              0.0            region_6   \n",
       "2         0.0                 0.0              2.0            region_1   \n",
       "3         0.0                 0.0              1.0            region_6   \n",
       "4         0.0                 0.0              0.0            region_5   \n",
       "5         0.0                 0.0              2.0            region_3   \n",
       "6         0.0               309.0              2.0            region_3   \n",
       "7         0.0               309.0              0.0            region_3   \n",
       "8         0.0               379.0              1.0            region_2   \n",
       "9         0.0               309.0              0.0            region_3   \n",
       "\n",
       "                ...                past_billings_cnt  score_1  score_2   age  \\\n",
       "0               ...                             10.0      0.0      0.0  21.0   \n",
       "1               ...                              5.0      0.0      0.0  20.0   \n",
       "2               ...                              5.0      0.0      0.0  19.0   \n",
       "3               ...                              6.0      0.0      0.0  21.0   \n",
       "4               ...                              3.0      0.0      0.0  33.0   \n",
       "5               ...                              5.0      0.0      0.0  34.0   \n",
       "6               ...                              8.0      0.0      0.0  32.0   \n",
       "7               ...                              5.0      0.0      0.0  23.0   \n",
       "8               ...                              6.0      0.0      0.0  33.0   \n",
       "9               ...                              5.0      0.0      0.0  23.0   \n",
       "\n",
       "   gender  bad_flag   dpd  first_loanfirst_overdue_date  \\\n",
       "0   False         0   0.0                         316.0   \n",
       "1   False         0   5.0                        -124.0   \n",
       "2   False         0   0.0                         354.0   \n",
       "3   False         0   0.0                         180.0   \n",
       "4   False         0   0.0                         214.0   \n",
       "5   False         0   0.0                         241.0   \n",
       "6   False         0   5.0                        -152.0   \n",
       "7   False         1  20.0                        -155.0   \n",
       "8   False         0  30.0                         -43.0   \n",
       "9   False         1  20.0                        -155.0   \n",
       "\n",
       "   rep_loan_datefirst_loan  rep_loan_datefirst_overdue_date  \n",
       "0                      328                            644.0  \n",
       "1                      180                             56.0  \n",
       "2                      314                            668.0  \n",
       "3                      365                            545.0  \n",
       "4                      120                            334.0  \n",
       "5                      398                            639.0  \n",
       "6                      256                            104.0  \n",
       "7                      172                             17.0  \n",
       "8                      291                            248.0  \n",
       "9                      171                             16.0  \n",
       "\n",
       "[10 rows x 26 columns]"
      ]
     },
     "execution_count": 3,
     "metadata": {},
     "output_type": "execute_result"
    }
   ],
   "source": [
    "train_df.head(10)"
   ]
  },
  {
   "cell_type": "code",
   "execution_count": 4,
   "metadata": {},
   "outputs": [
    {
     "data": {
      "text/plain": [
       "Unnamed: 0                          0\n",
       "loanKey                             0\n",
       "rep_loan_date                       0\n",
       "first_loan                          0\n",
       "dpd_5_cnt                           0\n",
       "dpd_15_cnt                          0\n",
       "dpd_30_cnt                          0\n",
       "first_overdue_date                  0\n",
       "close_loans_cnt                    15\n",
       "federal_district_nm                11\n",
       "TraderKey                           0\n",
       "payment_type_0                      0\n",
       "payment_type_1                      0\n",
       "payment_type_2                      0\n",
       "payment_type_3                      0\n",
       "payment_type_4                      0\n",
       "past_billings_cnt                   0\n",
       "score_1                             0\n",
       "score_2                             0\n",
       "age                                 0\n",
       "gender                              0\n",
       "bad_flag                            0\n",
       "dpd                                 0\n",
       "first_loanfirst_overdue_date        0\n",
       "rep_loan_datefirst_loan             0\n",
       "rep_loan_datefirst_overdue_date     0\n",
       "dtype: int64"
      ]
     },
     "execution_count": 4,
     "metadata": {},
     "output_type": "execute_result"
    }
   ],
   "source": [
    "df.apply(lambda x: x.isna().sum())\n",
    "#df.apply(lambda x: x.isna().sum())"
   ]
  },
  {
   "cell_type": "code",
   "execution_count": 5,
   "metadata": {},
   "outputs": [],
   "source": [
    "from sklearn.externals import joblib\n",
    "cbmft = joblib.load('../../models/scoring_model.joblib') "
   ]
  },
  {
   "cell_type": "code",
   "execution_count": 6,
   "metadata": {},
   "outputs": [
    {
     "data": {
      "text/html": [
       "<div>\n",
       "<style scoped>\n",
       "    .dataframe tbody tr th:only-of-type {\n",
       "        vertical-align: middle;\n",
       "    }\n",
       "\n",
       "    .dataframe tbody tr th {\n",
       "        vertical-align: top;\n",
       "    }\n",
       "\n",
       "    .dataframe thead th {\n",
       "        text-align: right;\n",
       "    }\n",
       "</style>\n",
       "<table border=\"1\" class=\"dataframe\">\n",
       "  <thead>\n",
       "    <tr style=\"text-align: right;\">\n",
       "      <th></th>\n",
       "      <th>rep_loan_date</th>\n",
       "      <th>first_loan</th>\n",
       "      <th>dpd_5_cnt</th>\n",
       "      <th>dpd_15_cnt</th>\n",
       "      <th>dpd_30_cnt</th>\n",
       "      <th>first_overdue_date</th>\n",
       "      <th>close_loans_cnt</th>\n",
       "      <th>federal_district_nm</th>\n",
       "      <th>TraderKey</th>\n",
       "      <th>payment_type_0</th>\n",
       "      <th>...</th>\n",
       "      <th>payment_type_4</th>\n",
       "      <th>past_billings_cnt</th>\n",
       "      <th>score_1</th>\n",
       "      <th>score_2</th>\n",
       "      <th>age</th>\n",
       "      <th>gender</th>\n",
       "      <th>dpd</th>\n",
       "      <th>first_loanfirst_overdue_date</th>\n",
       "      <th>rep_loan_datefirst_loan</th>\n",
       "      <th>rep_loan_datefirst_overdue_date</th>\n",
       "    </tr>\n",
       "  </thead>\n",
       "  <tbody>\n",
       "    <tr>\n",
       "      <th>7</th>\n",
       "      <td>326</td>\n",
       "      <td>154</td>\n",
       "      <td>1.0</td>\n",
       "      <td>1.0</td>\n",
       "      <td>0.0</td>\n",
       "      <td>309.0</td>\n",
       "      <td>0.0</td>\n",
       "      <td>region_3</td>\n",
       "      <td>Trader_6</td>\n",
       "      <td>0</td>\n",
       "      <td>...</td>\n",
       "      <td>0</td>\n",
       "      <td>5.0</td>\n",
       "      <td>0.0</td>\n",
       "      <td>0.0</td>\n",
       "      <td>23.0</td>\n",
       "      <td>False</td>\n",
       "      <td>20.0</td>\n",
       "      <td>-155.0</td>\n",
       "      <td>172</td>\n",
       "      <td>17.0</td>\n",
       "    </tr>\n",
       "  </tbody>\n",
       "</table>\n",
       "<p>1 rows × 23 columns</p>\n",
       "</div>"
      ],
      "text/plain": [
       "   rep_loan_date  first_loan  dpd_5_cnt  dpd_15_cnt  dpd_30_cnt  \\\n",
       "7            326         154        1.0         1.0         0.0   \n",
       "\n",
       "   first_overdue_date  close_loans_cnt federal_district_nm TraderKey  \\\n",
       "7               309.0              0.0            region_3  Trader_6   \n",
       "\n",
       "   payment_type_0               ...                 payment_type_4  \\\n",
       "7               0               ...                              0   \n",
       "\n",
       "   past_billings_cnt  score_1  score_2   age  gender   dpd  \\\n",
       "7                5.0      0.0      0.0  23.0   False  20.0   \n",
       "\n",
       "   first_loanfirst_overdue_date  rep_loan_datefirst_loan  \\\n",
       "7                        -155.0                      172   \n",
       "\n",
       "   rep_loan_datefirst_overdue_date  \n",
       "7                             17.0  \n",
       "\n",
       "[1 rows x 23 columns]"
      ]
     },
     "execution_count": 6,
     "metadata": {},
     "output_type": "execute_result"
    }
   ],
   "source": [
    "test_row = df.query(\"loanKey == 256097\")\n",
    "true_y = test_row[\"bad_flag\"]\n",
    "test_row = test_row.drop(columns=\"bad_flag\")\n",
    "test_row.drop(columns=['Unnamed: 0',\"loanKey\"], inplace=True, errors=\"ignore\")\n",
    "test_row"
   ]
  },
  {
   "cell_type": "code",
   "execution_count": 7,
   "metadata": {},
   "outputs": [
    {
     "data": {
      "text/plain": [
       "array([[0.17676168, 0.82323832]])"
      ]
     },
     "execution_count": 7,
     "metadata": {},
     "output_type": "execute_result"
    }
   ],
   "source": [
    "cbmft.result.get(\"model_fit\").predict_proba(test_row)"
   ]
  },
  {
   "cell_type": "code",
   "execution_count": 8,
   "metadata": {},
   "outputs": [
    {
     "data": {
      "text/plain": [
       "array([1.])"
      ]
     },
     "execution_count": 8,
     "metadata": {},
     "output_type": "execute_result"
    }
   ],
   "source": [
    "cbmft.result.get(\"model_fit\").predict(test_row)"
   ]
  },
  {
   "cell_type": "code",
   "execution_count": 9,
   "metadata": {},
   "outputs": [
    {
     "data": {
      "text/plain": [
       "7    1\n",
       "Name: bad_flag, dtype: int64"
      ]
     },
     "execution_count": 9,
     "metadata": {},
     "output_type": "execute_result"
    }
   ],
   "source": [
    "true_y"
   ]
  },
  {
   "cell_type": "code",
   "execution_count": 16,
   "metadata": {},
   "outputs": [],
   "source": [
    "df.dropna(inplace=True)\n",
    "y = df[\"bad_flag\"]\n",
    "X = df.drop(columns=[\"bad_flag\",'Unnamed: 0',\"loanKey\"], errors=\"ignore\")"
   ]
  },
  {
   "cell_type": "code",
   "execution_count": 17,
   "metadata": {},
   "outputs": [],
   "source": [
    "#y_score = cbmft.result.get(\"model_fit\").decision_function(X)"
   ]
  },
  {
   "cell_type": "code",
   "execution_count": null,
   "metadata": {},
   "outputs": [],
   "source": []
  },
  {
   "cell_type": "markdown",
   "metadata": {},
   "source": [
    "*Warning: this is not test-sample!*"
   ]
  },
  {
   "cell_type": "code",
   "execution_count": 23,
   "metadata": {},
   "outputs": [
    {
     "data": {
      "text/plain": [
       "0.9772253215578883"
      ]
     },
     "execution_count": 23,
     "metadata": {},
     "output_type": "execute_result"
    },
    {
     "data": {
      "text/plain": [
       "[<matplotlib.lines.Line2D at 0x11a6c5a20>]"
      ]
     },
     "execution_count": 23,
     "metadata": {},
     "output_type": "execute_result"
    },
    {
     "data": {
      "image/png": "[encoded data removed]",
      "text/plain": [
       "<Figure size 1000x600 with 1 Axes>"
      ]
     },
     "metadata": {
      "image/png": {
       "height": 504,
       "width": 824
      }
     },
     "output_type": "display_data"
    }
   ],
   "source": [
    "probas_ = cbmft.result.get(\"model_fit\").predict_proba(X)\n",
    "# Compute ROC curve and area the curve\n",
    "fpr, tpr, thresholds = sklearn.metrics.roc_curve(y, probas_[:, 1])\n",
    "#y_score = cbmft.result.get(\"model_fit\").decision_function(X)\n",
    "\n",
    "#fpr,tpr,the=sklearn.metrics.roc_curve(test['income'],y_score)\n",
    "sklearn.metrics.roc_auc_score(y,probas_[:, 1])\n",
    "plt.plot(fpr,tpr,)"
   ]
  }
 ],
 "metadata": {
  "kernelspec": {
   "display_name": "Python 3",
   "language": "python",
   "name": "python3"
  },
  "language_info": {
   "codemirror_mode": {
    "name": "ipython",
    "version": 3
   },
   "file_extension": ".py",
   "mimetype": "text/x-python",
   "name": "python",
   "nbconvert_exporter": "python",
   "pygments_lexer": "ipython3",
   "version": "3.6.5"
  }
 },
 "nbformat": 4,
 "nbformat_minor": 2
}
